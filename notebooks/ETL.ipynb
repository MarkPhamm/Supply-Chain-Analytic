{
 "cells": [
  {
   "cell_type": "code",
   "execution_count": 31,
   "metadata": {},
   "outputs": [],
   "source": [
    "# Import libraries\n",
    "import pandas as pd\n",
    "import numpy as np\n",
    "import os"
   ]
  },
  {
   "cell_type": "code",
   "execution_count": 32,
   "metadata": {},
   "outputs": [],
   "source": [
    "# Get the current working directory\n",
    "current_dir = os.getcwd()\n",
    "# Move up one level from the current directory\n",
    "parent_dir = os.path.dirname(current_dir)\n",
    "# Change directory into data directory\n",
    "data_dir = os.path.join(parent_dir, 'data')"
   ]
  },
  {
   "cell_type": "code",
   "execution_count": 33,
   "metadata": {},
   "outputs": [
    {
     "name": "stdout",
     "output_type": "stream",
     "text": [
      "c:\\Users\\hamin\\Desktop\\Supply-Chain-Analytic\\data\n"
     ]
    }
   ],
   "source": [
    "print(data_dir)"
   ]
  },
  {
   "cell_type": "markdown",
   "metadata": {},
   "source": [
    "# Extract"
   ]
  },
  {
   "cell_type": "code",
   "execution_count": 58,
   "metadata": {},
   "outputs": [],
   "source": [
    "df_fulfillment = pd.read_csv(os.path.join(data_dir, 'fulfillment.csv'), index_col=None)\n",
    "df_inventory = pd.read_csv(os.path.join(data_dir, 'inventory.csv'), index_col=None)\n",
    "df_orders = pd.read_csv(os.path.join(data_dir, 'orders_and_shipments.csv'), index_col=None)"
   ]
  },
  {
   "cell_type": "code",
   "execution_count": 59,
   "metadata": {},
   "outputs": [
    {
     "data": {
      "text/html": [
       "<div>\n",
       "<style scoped>\n",
       "    .dataframe tbody tr th:only-of-type {\n",
       "        vertical-align: middle;\n",
       "    }\n",
       "\n",
       "    .dataframe tbody tr th {\n",
       "        vertical-align: top;\n",
       "    }\n",
       "\n",
       "    .dataframe thead th {\n",
       "        text-align: right;\n",
       "    }\n",
       "</style>\n",
       "<table border=\"1\" class=\"dataframe\">\n",
       "  <thead>\n",
       "    <tr style=\"text-align: right;\">\n",
       "      <th></th>\n",
       "      <th>Product Name</th>\n",
       "      <th>Warehouse Order Fulfillment (days)</th>\n",
       "    </tr>\n",
       "  </thead>\n",
       "  <tbody>\n",
       "    <tr>\n",
       "      <th>0</th>\n",
       "      <td>Perfect Fitness Perfect Rip Deck</td>\n",
       "      <td>8.3</td>\n",
       "    </tr>\n",
       "    <tr>\n",
       "      <th>1</th>\n",
       "      <td>Nike Men's Dri-FIT Victory Golf Polo</td>\n",
       "      <td>6.6</td>\n",
       "    </tr>\n",
       "    <tr>\n",
       "      <th>2</th>\n",
       "      <td>O'Brien Men's Neoprene Life Vest</td>\n",
       "      <td>5.5</td>\n",
       "    </tr>\n",
       "    <tr>\n",
       "      <th>3</th>\n",
       "      <td>Nike Men's Free 5.0+ Running Shoe</td>\n",
       "      <td>9.4</td>\n",
       "    </tr>\n",
       "    <tr>\n",
       "      <th>4</th>\n",
       "      <td>Under Armour Girls' Toddler Spine Surge Runni</td>\n",
       "      <td>6.3</td>\n",
       "    </tr>\n",
       "  </tbody>\n",
       "</table>\n",
       "</div>"
      ],
      "text/plain": [
       "                                    Product Name  \\\n",
       "0               Perfect Fitness Perfect Rip Deck   \n",
       "1           Nike Men's Dri-FIT Victory Golf Polo   \n",
       "2               O'Brien Men's Neoprene Life Vest   \n",
       "3              Nike Men's Free 5.0+ Running Shoe   \n",
       "4  Under Armour Girls' Toddler Spine Surge Runni   \n",
       "\n",
       "    Warehouse Order Fulfillment (days)   \n",
       "0                                   8.3  \n",
       "1                                   6.6  \n",
       "2                                   5.5  \n",
       "3                                   9.4  \n",
       "4                                   6.3  "
      ]
     },
     "execution_count": 59,
     "metadata": {},
     "output_type": "execute_result"
    }
   ],
   "source": [
    "df_fulfillment.head()"
   ]
  },
  {
   "cell_type": "markdown",
   "metadata": {},
   "source": [
    "# 2.Transform"
   ]
  },
  {
   "cell_type": "markdown",
   "metadata": {},
   "source": [
    "## 2.1 Rename Columns"
   ]
  },
  {
   "cell_type": "code",
   "execution_count": 40,
   "metadata": {},
   "outputs": [],
   "source": [
    "def rename_columns(df):\n",
    "    # Convert from camel case to snake case\n",
    "    df.columns = (\n",
    "        df.columns\n",
    "        .str.replace('(?<=[a-z])(?=[A-Z])', '_', regex=True)\n",
    "        .str.lower()\n",
    "    )\n",
    "    # Replace spaces with underscores\n",
    "    df.columns = df.columns.str.replace(' ', '_')\n",
    "    # Replace hyphens with underscores\n",
    "    df.columns = df.columns.str.replace('-', '_')\n",
    "    # Replace percentage signs with 'percent'\n",
    "    df.columns = df.columns.str.replace('%', 'percent')\n",
    "    # Remove parentheses\n",
    "    df.columns = df.columns.str.replace('[()]', '', regex=True)\n",
    "    # Replace multiple underscores with a single underscore\n",
    "    df.columns = df.columns.str.replace('_+', '_', regex=True)\n",
    "    # Remove leading and trailing underscores\n",
    "    df.columns = df.columns.str.strip('_')\n",
    "    \n",
    "    return df"
   ]
  },
  {
   "cell_type": "code",
   "execution_count": 60,
   "metadata": {},
   "outputs": [],
   "source": [
    "df_inventory = rename_columns(df_inventory)\n",
    "df_fulfillment = rename_columns(df_fulfillment)\n",
    "df_orders = rename_columns(df_orders)"
   ]
  },
  {
   "cell_type": "code",
   "execution_count": 64,
   "metadata": {},
   "outputs": [
    {
     "data": {
      "text/plain": [
       "Index(['product_name', 'warehouse_order_fulfillment_days'], dtype='object')"
      ]
     },
     "execution_count": 64,
     "metadata": {},
     "output_type": "execute_result"
    }
   ],
   "source": [
    "df_fulfillment.columns"
   ]
  },
  {
   "cell_type": "markdown",
   "metadata": {},
   "source": [
    "## 2.2 Check Datatypes"
   ]
  },
  {
   "cell_type": "code",
   "execution_count": 65,
   "metadata": {},
   "outputs": [
    {
     "data": {
      "text/plain": [
       "product_name                         object\n",
       "warehouse_order_fulfillment_days    float64\n",
       "dtype: object"
      ]
     },
     "execution_count": 65,
     "metadata": {},
     "output_type": "execute_result"
    }
   ],
   "source": [
    "df_fulfillment.dtypes"
   ]
  },
  {
   "cell_type": "code",
   "execution_count": 45,
   "metadata": {},
   "outputs": [
    {
     "data": {
      "text/plain": [
       "product_name                object\n",
       "year_month                   int64\n",
       "warehouse_inventory          int64\n",
       "inventory_cost_per_unit    float64\n",
       "dtype: object"
      ]
     },
     "execution_count": 45,
     "metadata": {},
     "output_type": "execute_result"
    }
   ],
   "source": [
    "df_inventory.dtypes"
   ]
  },
  {
   "cell_type": "code",
   "execution_count": 46,
   "metadata": {},
   "outputs": [
    {
     "data": {
      "text/plain": [
       "order_id                    int64\n",
       "order_item_id               int64\n",
       "order_year_month            int64\n",
       "order_year                  int64\n",
       "order_month                 int64\n",
       "order_day                   int64\n",
       "order_time                 object\n",
       "order_quantity              int64\n",
       "product_department         object\n",
       "product_category           object\n",
       "product_name               object\n",
       "customer_id                 int64\n",
       "customer_market            object\n",
       "customer_region            object\n",
       "customer_country           object\n",
       "warehouse_country          object\n",
       "shipment_year               int64\n",
       "shipment_month              int64\n",
       "shipment_day                int64\n",
       "shipment_mode              object\n",
       "shipment_days_scheduled     int64\n",
       "gross_sales                 int64\n",
       "discount_percent           object\n",
       "profit                      int64\n",
       "dtype: object"
      ]
     },
     "execution_count": 46,
     "metadata": {},
     "output_type": "execute_result"
    }
   ],
   "source": [
    "df_orders.dtypes"
   ]
  },
  {
   "cell_type": "markdown",
   "metadata": {},
   "source": [
    "# 3. Load"
   ]
  },
  {
   "cell_type": "code",
   "execution_count": 72,
   "metadata": {},
   "outputs": [],
   "source": [
    "import pyodbc\n",
    "from sqlalchemy import create_engine\n",
    "import sqlalchemy"
   ]
  },
  {
   "cell_type": "code",
   "execution_count": 52,
   "metadata": {},
   "outputs": [
    {
     "name": "stderr",
     "output_type": "stream",
     "text": [
      "<>:4: SyntaxWarning: invalid escape sequence '\\S'\n",
      "<>:4: SyntaxWarning: invalid escape sequence '\\S'\n",
      "C:\\Users\\hamin\\AppData\\Local\\Temp\\ipykernel_20484\\3518523648.py:4: SyntaxWarning: invalid escape sequence '\\S'\n",
      "  'SERVER=BOOK-3EOH2MPGSA\\SQLEXPRESS;'\n"
     ]
    }
   ],
   "source": [
    "# Define the connection string using Windows Authentication\n",
    "conn = pyodbc.connect(\n",
    "    'DRIVER={SQL Server};'\n",
    "    'SERVER=BOOK-3EOH2MPGSA\\SQLEXPRESS;'\n",
    "    'DATABASE=SUPPLY_CHAIN_ANALYTICS;'\n",
    "    'Trusted_Connection=yes;'\n",
    ")"
   ]
  },
  {
   "cell_type": "code",
   "execution_count": 81,
   "metadata": {},
   "outputs": [],
   "source": [
    "def get_column_types(df):\n",
    "    # Map Pandas data types to SQL Server data types\n",
    "    type_map = {\n",
    "        'object': 'NVARCHAR(MAX)',\n",
    "        'int64': 'BIGINT',\n",
    "        'float64': 'FLOAT',\n",
    "        'datetime64[ns]': 'DATETIME2',\n",
    "        'bool': 'BIT'\n",
    "    }\n",
    "    return [type_map.get(str(dt), 'NVARCHAR(MAX)') for dt in df.dtypes]"
   ]
  },
  {
   "cell_type": "code",
   "execution_count": 82,
   "metadata": {},
   "outputs": [],
   "source": [
    "def load_table(df, table_name, schema_name):\n",
    "    # Define the connection string using Windows Authentication\n",
    "    conn_str = (\n",
    "        'Driver={SQL Server};'\n",
    "        'Server=BOOK-3EOH2MPGSA\\\\SQLEXPRESS;'\n",
    "        'Database=SUPPLY_CHAIN_ANALYTICS;'\n",
    "        'Trusted_Connection=yes;'\n",
    "    )\n",
    "\n",
    "    # Create a pyodbc connection\n",
    "    conn = pyodbc.connect(conn_str)\n",
    "    cursor = conn.cursor()\n",
    "\n",
    "    # Drop the table if it already exists\n",
    "    cursor.execute(f\"IF OBJECT_ID('{schema_name}.{table_name}', 'U') IS NOT NULL DROP TABLE {schema_name}.{table_name}\")\n",
    "    conn.commit()\n",
    "\n",
    "    # Create the table schema\n",
    "    columns = ', '.join([f'{col} {dtype}' for col, dtype in zip(df.columns, get_column_types(df))])\n",
    "    create_table_sql = f\"CREATE TABLE {schema_name}.{table_name} ({columns})\"\n",
    "    cursor.execute(create_table_sql)\n",
    "    conn.commit()\n",
    "\n",
    "    # Insert the data into the table\n",
    "    insert_sql = f\"INSERT INTO {schema_name}.{table_name} VALUES ({','.join(['?'] * len(df.columns))})\"\n",
    "    for _, row in df.iterrows():\n",
    "        cursor.execute(insert_sql, *row.tolist())\n",
    "    conn.commit()\n",
    "\n",
    "    cursor.close()\n",
    "    conn.close()\n",
    "    print(f\"DataFrame loaded successfully into {schema_name}.{table_name}\")"
   ]
  },
  {
   "cell_type": "code",
   "execution_count": 79,
   "metadata": {},
   "outputs": [
    {
     "data": {
      "text/plain": [
       "product_name                         object\n",
       "warehouse_order_fulfillment_days    float64\n",
       "dtype: object"
      ]
     },
     "execution_count": 79,
     "metadata": {},
     "output_type": "execute_result"
    }
   ],
   "source": [
    "df_fulfillment.dtypes"
   ]
  },
  {
   "cell_type": "code",
   "execution_count": 83,
   "metadata": {},
   "outputs": [
    {
     "name": "stdout",
     "output_type": "stream",
     "text": [
      "DataFrame loaded successfully into original.fulfillment\n"
     ]
    }
   ],
   "source": [
    "load_table(df_fulfillment, 'fulfillment', 'original')"
   ]
  },
  {
   "cell_type": "code",
   "execution_count": 84,
   "metadata": {},
   "outputs": [
    {
     "name": "stdout",
     "output_type": "stream",
     "text": [
      "DataFrame loaded successfully into original.orders\n"
     ]
    }
   ],
   "source": [
    "load_table(df_orders, 'orders', 'original')"
   ]
  },
  {
   "cell_type": "code",
   "execution_count": 85,
   "metadata": {},
   "outputs": [
    {
     "name": "stdout",
     "output_type": "stream",
     "text": [
      "DataFrame loaded successfully into original.inventory\n"
     ]
    }
   ],
   "source": [
    "load_table(df_inventory, 'inventory', 'original')"
   ]
  }
 ],
 "metadata": {
  "kernelspec": {
   "display_name": ".venv",
   "language": "python",
   "name": "python3"
  },
  "language_info": {
   "codemirror_mode": {
    "name": "ipython",
    "version": 3
   },
   "file_extension": ".py",
   "mimetype": "text/x-python",
   "name": "python",
   "nbconvert_exporter": "python",
   "pygments_lexer": "ipython3",
   "version": "3.12.5"
  }
 },
 "nbformat": 4,
 "nbformat_minor": 2
}
