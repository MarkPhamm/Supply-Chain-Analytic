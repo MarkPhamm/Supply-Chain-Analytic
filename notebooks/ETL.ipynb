{
 "cells": [
  {
   "cell_type": "code",
   "execution_count": 1,
   "metadata": {},
   "outputs": [],
   "source": [
    "# Import libraries\n",
    "import pandas as pd\n",
    "import numpy as np\n",
    "import os"
   ]
  },
  {
   "cell_type": "code",
   "execution_count": 2,
   "metadata": {},
   "outputs": [],
   "source": [
    "# Get the current working directory\n",
    "current_dir = os.getcwd()\n",
    "# Move up one level from the current directory\n",
    "parent_dir = os.path.dirname(current_dir)\n",
    "# Change directory into data directory\n",
    "data_dir = os.path.join(parent_dir, 'data')"
   ]
  },
  {
   "cell_type": "code",
   "execution_count": 3,
   "metadata": {},
   "outputs": [
    {
     "name": "stdout",
     "output_type": "stream",
     "text": [
      "c:\\Users\\hamin\\Desktop\\Supply-Chain-Analytic\\data\n"
     ]
    }
   ],
   "source": [
    "print(data_dir)"
   ]
  },
  {
   "cell_type": "markdown",
   "metadata": {},
   "source": [
    "# Extract"
   ]
  },
  {
   "cell_type": "code",
   "execution_count": 4,
   "metadata": {},
   "outputs": [],
   "source": [
    "df_fulfillment = pd.read_csv(os.path.join(data_dir, 'fulfillment.csv'), index_col=None)\n",
    "df_inventory = pd.read_csv(os.path.join(data_dir, 'inventory.csv'), index_col=None)\n",
    "df_orders = pd.read_csv(os.path.join(data_dir, 'orders_and_shipments.csv'), index_col=None)"
   ]
  },
  {
   "cell_type": "code",
   "execution_count": 5,
   "metadata": {},
   "outputs": [
    {
     "data": {
      "text/html": [
       "<div>\n",
       "<style scoped>\n",
       "    .dataframe tbody tr th:only-of-type {\n",
       "        vertical-align: middle;\n",
       "    }\n",
       "\n",
       "    .dataframe tbody tr th {\n",
       "        vertical-align: top;\n",
       "    }\n",
       "\n",
       "    .dataframe thead th {\n",
       "        text-align: right;\n",
       "    }\n",
       "</style>\n",
       "<table border=\"1\" class=\"dataframe\">\n",
       "  <thead>\n",
       "    <tr style=\"text-align: right;\">\n",
       "      <th></th>\n",
       "      <th>Product Name</th>\n",
       "      <th>Warehouse Order Fulfillment (days)</th>\n",
       "    </tr>\n",
       "  </thead>\n",
       "  <tbody>\n",
       "    <tr>\n",
       "      <th>0</th>\n",
       "      <td>Perfect Fitness Perfect Rip Deck</td>\n",
       "      <td>8.3</td>\n",
       "    </tr>\n",
       "    <tr>\n",
       "      <th>1</th>\n",
       "      <td>Nike Men's Dri-FIT Victory Golf Polo</td>\n",
       "      <td>6.6</td>\n",
       "    </tr>\n",
       "    <tr>\n",
       "      <th>2</th>\n",
       "      <td>O'Brien Men's Neoprene Life Vest</td>\n",
       "      <td>5.5</td>\n",
       "    </tr>\n",
       "    <tr>\n",
       "      <th>3</th>\n",
       "      <td>Nike Men's Free 5.0+ Running Shoe</td>\n",
       "      <td>9.4</td>\n",
       "    </tr>\n",
       "    <tr>\n",
       "      <th>4</th>\n",
       "      <td>Under Armour Girls' Toddler Spine Surge Runni</td>\n",
       "      <td>6.3</td>\n",
       "    </tr>\n",
       "  </tbody>\n",
       "</table>\n",
       "</div>"
      ],
      "text/plain": [
       "                                    Product Name  \\\n",
       "0               Perfect Fitness Perfect Rip Deck   \n",
       "1           Nike Men's Dri-FIT Victory Golf Polo   \n",
       "2               O'Brien Men's Neoprene Life Vest   \n",
       "3              Nike Men's Free 5.0+ Running Shoe   \n",
       "4  Under Armour Girls' Toddler Spine Surge Runni   \n",
       "\n",
       "    Warehouse Order Fulfillment (days)   \n",
       "0                                   8.3  \n",
       "1                                   6.6  \n",
       "2                                   5.5  \n",
       "3                                   9.4  \n",
       "4                                   6.3  "
      ]
     },
     "execution_count": 5,
     "metadata": {},
     "output_type": "execute_result"
    }
   ],
   "source": [
    "df_fulfillment.head()"
   ]
  },
  {
   "cell_type": "markdown",
   "metadata": {},
   "source": [
    "# 2.Transform"
   ]
  },
  {
   "cell_type": "markdown",
   "metadata": {},
   "source": [
    "## 2.1 Rename Columns"
   ]
  },
  {
   "cell_type": "code",
   "execution_count": 6,
   "metadata": {},
   "outputs": [],
   "source": [
    "def rename_columns(df):\n",
    "    # Convert from camel case to snake case\n",
    "    df.columns = (\n",
    "        df.columns\n",
    "        .str.replace('(?<=[a-z])(?=[A-Z])', '_', regex=True)\n",
    "        .str.lower()\n",
    "    )\n",
    "    # Replace spaces with underscores\n",
    "    df.columns = df.columns.str.replace(' ', '_')\n",
    "    # Replace hyphens with underscores\n",
    "    df.columns = df.columns.str.replace('-', '_')\n",
    "    # Replace percentage signs with 'percent'\n",
    "    df.columns = df.columns.str.replace('%', 'percent')\n",
    "    # Remove parentheses\n",
    "    df.columns = df.columns.str.replace('[()]', '', regex=True)\n",
    "    # Replace multiple underscores with a single underscore\n",
    "    df.columns = df.columns.str.replace('_+', '_', regex=True)\n",
    "    # Remove leading and trailing underscores\n",
    "    df.columns = df.columns.str.strip('_')\n",
    "    \n",
    "    return df"
   ]
  },
  {
   "cell_type": "code",
   "execution_count": 7,
   "metadata": {},
   "outputs": [],
   "source": [
    "df_inventory = rename_columns(df_inventory)\n",
    "df_fulfillment = rename_columns(df_fulfillment)\n",
    "df_orders = rename_columns(df_orders)"
   ]
  },
  {
   "cell_type": "code",
   "execution_count": 8,
   "metadata": {},
   "outputs": [
    {
     "data": {
      "text/plain": [
       "Index(['product_name', 'warehouse_order_fulfillment_days'], dtype='object')"
      ]
     },
     "execution_count": 8,
     "metadata": {},
     "output_type": "execute_result"
    }
   ],
   "source": [
    "df_fulfillment.columns"
   ]
  },
  {
   "cell_type": "markdown",
   "metadata": {},
   "source": [
    "## 2.2 Check Datatypes"
   ]
  },
  {
   "cell_type": "code",
   "execution_count": 9,
   "metadata": {},
   "outputs": [
    {
     "data": {
      "text/plain": [
       "product_name                         object\n",
       "warehouse_order_fulfillment_days    float64\n",
       "dtype: object"
      ]
     },
     "execution_count": 9,
     "metadata": {},
     "output_type": "execute_result"
    }
   ],
   "source": [
    "df_fulfillment.dtypes"
   ]
  },
  {
   "cell_type": "code",
   "execution_count": 10,
   "metadata": {},
   "outputs": [
    {
     "data": {
      "text/plain": [
       "product_name                object\n",
       "year_month                   int64\n",
       "warehouse_inventory          int64\n",
       "inventory_cost_per_unit    float64\n",
       "dtype: object"
      ]
     },
     "execution_count": 10,
     "metadata": {},
     "output_type": "execute_result"
    }
   ],
   "source": [
    "df_inventory.dtypes"
   ]
  },
  {
   "cell_type": "code",
   "execution_count": 11,
   "metadata": {},
   "outputs": [
    {
     "data": {
      "text/plain": [
       "order_id                    int64\n",
       "order_item_id               int64\n",
       "order_year_month            int64\n",
       "order_year                  int64\n",
       "order_month                 int64\n",
       "order_day                   int64\n",
       "order_time                 object\n",
       "order_quantity              int64\n",
       "product_department         object\n",
       "product_category           object\n",
       "product_name               object\n",
       "customer_id                 int64\n",
       "customer_market            object\n",
       "customer_region            object\n",
       "customer_country           object\n",
       "warehouse_country          object\n",
       "shipment_year               int64\n",
       "shipment_month              int64\n",
       "shipment_day                int64\n",
       "shipment_mode              object\n",
       "shipment_days_scheduled     int64\n",
       "gross_sales                 int64\n",
       "discount_percent           object\n",
       "profit                      int64\n",
       "dtype: object"
      ]
     },
     "execution_count": 11,
     "metadata": {},
     "output_type": "execute_result"
    }
   ],
   "source": [
    "df_orders.dtypes"
   ]
  },
  {
   "cell_type": "markdown",
   "metadata": {},
   "source": [
    "# 3. Load"
   ]
  },
  {
   "cell_type": "code",
   "execution_count": 12,
   "metadata": {},
   "outputs": [],
   "source": [
    "import pyodbc\n",
    "from sqlalchemy import create_engine\n",
    "import sqlalchemy"
   ]
  },
  {
   "cell_type": "code",
   "execution_count": 13,
   "metadata": {},
   "outputs": [
    {
     "name": "stderr",
     "output_type": "stream",
     "text": [
      "<>:4: SyntaxWarning: invalid escape sequence '\\S'\n",
      "<>:4: SyntaxWarning: invalid escape sequence '\\S'\n",
      "C:\\Users\\hamin\\AppData\\Local\\Temp\\ipykernel_7372\\3518523648.py:4: SyntaxWarning: invalid escape sequence '\\S'\n",
      "  'SERVER=BOOK-3EOH2MPGSA\\SQLEXPRESS;'\n"
     ]
    }
   ],
   "source": [
    "# Define the connection string using Windows Authentication\n",
    "conn = pyodbc.connect(\n",
    "    'DRIVER={SQL Server};'\n",
    "    'SERVER=BOOK-3EOH2MPGSA\\SQLEXPRESS;'\n",
    "    'DATABASE=SUPPLY_CHAIN_ANALYTICS;'\n",
    "    'Trusted_Connection=yes;'\n",
    ")"
   ]
  },
  {
   "cell_type": "code",
   "execution_count": 14,
   "metadata": {},
   "outputs": [],
   "source": [
    "def get_column_types(df):\n",
    "    # Map Pandas data types to SQL Server data types\n",
    "    type_map = {\n",
    "        'object': 'NVARCHAR(MAX)',\n",
    "        'int64': 'BIGINT',\n",
    "        'float64': 'FLOAT',\n",
    "        'datetime64[ns]': 'DATETIME2',\n",
    "        'bool': 'BIT'\n",
    "    }\n",
    "    return [type_map.get(str(dt), 'NVARCHAR(MAX)') for dt in df.dtypes]"
   ]
  },
  {
   "cell_type": "code",
   "execution_count": 15,
   "metadata": {},
   "outputs": [],
   "source": [
    "def load_table(df, table_name, schema_name):\n",
    "    # Define the connection string using Windows Authentication\n",
    "    conn_str = (\n",
    "        'Driver={SQL Server};'\n",
    "        'Server=BOOK-3EOH2MPGSA\\\\SQLEXPRESS;'\n",
    "        'Database=SUPPLY_CHAIN_ANALYTICS;'\n",
    "        'Trusted_Connection=yes;'\n",
    "    )\n",
    "\n",
    "    # Create a pyodbc connection\n",
    "    conn = pyodbc.connect(conn_str)\n",
    "    cursor = conn.cursor()\n",
    "\n",
    "    # Drop the table if it already exists\n",
    "    cursor.execute(f\"IF OBJECT_ID('{schema_name}.{table_name}', 'U') IS NOT NULL DROP TABLE {schema_name}.{table_name}\")\n",
    "    conn.commit()\n",
    "\n",
    "    # Create the table schema\n",
    "    columns = ', '.join([f'{col} {dtype}' for col, dtype in zip(df.columns, get_column_types(df))])\n",
    "    create_table_sql = f\"CREATE TABLE {schema_name}.{table_name} ({columns})\"\n",
    "    cursor.execute(create_table_sql)\n",
    "    conn.commit()\n",
    "\n",
    "    # Insert the data into the table\n",
    "    insert_sql = f\"INSERT INTO {schema_name}.{table_name} VALUES ({','.join(['?'] * len(df.columns))})\"\n",
    "    for _, row in df.iterrows():\n",
    "        cursor.execute(insert_sql, *row.tolist())\n",
    "    conn.commit()\n",
    "\n",
    "    cursor.close()\n",
    "    conn.close()\n",
    "    print(f\"DataFrame loaded successfully into {schema_name}.{table_name}\")"
   ]
  },
  {
   "cell_type": "code",
   "execution_count": 16,
   "metadata": {},
   "outputs": [
    {
     "data": {
      "text/plain": [
       "product_name                         object\n",
       "warehouse_order_fulfillment_days    float64\n",
       "dtype: object"
      ]
     },
     "execution_count": 16,
     "metadata": {},
     "output_type": "execute_result"
    }
   ],
   "source": [
    "df_fulfillment.dtypes"
   ]
  },
  {
   "cell_type": "code",
   "execution_count": 17,
   "metadata": {},
   "outputs": [
    {
     "name": "stdout",
     "output_type": "stream",
     "text": [
      "DataFrame loaded successfully into original.fulfillment\n"
     ]
    }
   ],
   "source": [
    "load_table(df_fulfillment, 'fulfillment', 'original')"
   ]
  },
  {
   "cell_type": "code",
   "execution_count": 18,
   "metadata": {},
   "outputs": [
    {
     "name": "stdout",
     "output_type": "stream",
     "text": [
      "DataFrame loaded successfully into original.orders\n"
     ]
    }
   ],
   "source": [
    "load_table(df_orders, 'orders', 'original')"
   ]
  },
  {
   "cell_type": "code",
   "execution_count": 19,
   "metadata": {},
   "outputs": [
    {
     "name": "stdout",
     "output_type": "stream",
     "text": [
      "DataFrame loaded successfully into original.inventory\n"
     ]
    }
   ],
   "source": [
    "load_table(df_inventory, 'inventory', 'original')"
   ]
  },
  {
   "cell_type": "markdown",
   "metadata": {},
   "source": [
    "# 4. Create and Load dim_date"
   ]
  },
  {
   "cell_type": "code",
   "execution_count": 25,
   "metadata": {},
   "outputs": [
    {
     "name": "stderr",
     "output_type": "stream",
     "text": [
      "C:\\Users\\hamin\\AppData\\Local\\Temp\\ipykernel_7372\\2449815114.py:21: FutureWarning: 'M' is deprecated and will be removed in a future version, please use 'ME' instead.\n",
      "  'is_last_day_of_month': date_range.isin(pd.date_range(start='2021-01-01', end='2023-12-31', freq='M')),\n",
      "C:\\Users\\hamin\\AppData\\Local\\Temp\\ipykernel_7372\\2449815114.py:22: FutureWarning: 'Q' is deprecated and will be removed in a future version, please use 'QE' instead.\n",
      "  'is_last_day_of_quarter': date_range.isin(pd.date_range(start='2021-01-01', end='2023-12-31', freq='Q')),\n",
      "C:\\Users\\hamin\\AppData\\Local\\Temp\\ipykernel_7372\\2449815114.py:23: FutureWarning: 'A' is deprecated and will be removed in a future version, please use 'YE' instead.\n",
      "  'is_last_day_of_year': date_range.isin(pd.date_range(start='2021-01-01', end='2023-12-31', freq='A'))\n"
     ]
    }
   ],
   "source": [
    "# Step 1: Generate the date range\n",
    "date_range = pd.date_range(start='2021-01-01', end='2023-12-31')\n",
    "\n",
    "# Step 2: Create the DataFrame\n",
    "df_date = pd.DataFrame({\n",
    "    'date': date_range,\n",
    "    'year': date_range.year,\n",
    "    'quarter': date_range.quarter,\n",
    "    'month': date_range.month,\n",
    "    'month_name': date_range.strftime('%B'),\n",
    "    'month_abbreviation': date_range.strftime('%b'),\n",
    "    'day': date_range.day,\n",
    "    'day_of_week': date_range.weekday + 2,  # Monday=1, Sunday=7\n",
    "    'day_name': date_range.strftime('%A'),\n",
    "    'day_abbreviation': date_range.strftime('%a'),\n",
    "    'week': date_range.isocalendar().week,\n",
    "    'is_weekend': date_range.weekday >= 5,  # 5=Saturday, 6=Sunday\n",
    "    'fiscal_year': date_range.year,  # Adjust if fiscal year differs\n",
    "    'fiscal_quarter': date_range.quarter,\n",
    "    'fiscal_month': date_range.month,\n",
    "    'is_last_day_of_month': date_range.isin(pd.date_range(start='2021-01-01', end='2023-12-31', freq='M')),\n",
    "    'is_last_day_of_quarter': date_range.isin(pd.date_range(start='2021-01-01', end='2023-12-31', freq='Q')),\n",
    "    'is_last_day_of_year': date_range.isin(pd.date_range(start='2021-01-01', end='2023-12-31', freq='A'))\n",
    "})"
   ]
  },
  {
   "cell_type": "code",
   "execution_count": 26,
   "metadata": {},
   "outputs": [
    {
     "data": {
      "text/html": [
       "<div>\n",
       "<style scoped>\n",
       "    .dataframe tbody tr th:only-of-type {\n",
       "        vertical-align: middle;\n",
       "    }\n",
       "\n",
       "    .dataframe tbody tr th {\n",
       "        vertical-align: top;\n",
       "    }\n",
       "\n",
       "    .dataframe thead th {\n",
       "        text-align: right;\n",
       "    }\n",
       "</style>\n",
       "<table border=\"1\" class=\"dataframe\">\n",
       "  <thead>\n",
       "    <tr style=\"text-align: right;\">\n",
       "      <th></th>\n",
       "      <th>date</th>\n",
       "      <th>year</th>\n",
       "      <th>quarter</th>\n",
       "      <th>month</th>\n",
       "      <th>month_name</th>\n",
       "      <th>month_abbreviation</th>\n",
       "      <th>day</th>\n",
       "      <th>day_of_week</th>\n",
       "      <th>day_name</th>\n",
       "      <th>day_abbreviation</th>\n",
       "      <th>week</th>\n",
       "      <th>is_weekend</th>\n",
       "      <th>fiscal_year</th>\n",
       "      <th>fiscal_quarter</th>\n",
       "      <th>fiscal_month</th>\n",
       "      <th>is_last_day_of_month</th>\n",
       "      <th>is_last_day_of_quarter</th>\n",
       "      <th>is_last_day_of_year</th>\n",
       "    </tr>\n",
       "  </thead>\n",
       "  <tbody>\n",
       "    <tr>\n",
       "      <th>2021-01-01</th>\n",
       "      <td>2021-01-01</td>\n",
       "      <td>2021</td>\n",
       "      <td>1</td>\n",
       "      <td>1</td>\n",
       "      <td>January</td>\n",
       "      <td>Jan</td>\n",
       "      <td>1</td>\n",
       "      <td>6</td>\n",
       "      <td>Friday</td>\n",
       "      <td>Fri</td>\n",
       "      <td>53</td>\n",
       "      <td>False</td>\n",
       "      <td>2021</td>\n",
       "      <td>1</td>\n",
       "      <td>1</td>\n",
       "      <td>False</td>\n",
       "      <td>False</td>\n",
       "      <td>False</td>\n",
       "    </tr>\n",
       "    <tr>\n",
       "      <th>2021-01-02</th>\n",
       "      <td>2021-01-02</td>\n",
       "      <td>2021</td>\n",
       "      <td>1</td>\n",
       "      <td>1</td>\n",
       "      <td>January</td>\n",
       "      <td>Jan</td>\n",
       "      <td>2</td>\n",
       "      <td>7</td>\n",
       "      <td>Saturday</td>\n",
       "      <td>Sat</td>\n",
       "      <td>53</td>\n",
       "      <td>True</td>\n",
       "      <td>2021</td>\n",
       "      <td>1</td>\n",
       "      <td>1</td>\n",
       "      <td>False</td>\n",
       "      <td>False</td>\n",
       "      <td>False</td>\n",
       "    </tr>\n",
       "    <tr>\n",
       "      <th>2021-01-03</th>\n",
       "      <td>2021-01-03</td>\n",
       "      <td>2021</td>\n",
       "      <td>1</td>\n",
       "      <td>1</td>\n",
       "      <td>January</td>\n",
       "      <td>Jan</td>\n",
       "      <td>3</td>\n",
       "      <td>8</td>\n",
       "      <td>Sunday</td>\n",
       "      <td>Sun</td>\n",
       "      <td>53</td>\n",
       "      <td>True</td>\n",
       "      <td>2021</td>\n",
       "      <td>1</td>\n",
       "      <td>1</td>\n",
       "      <td>False</td>\n",
       "      <td>False</td>\n",
       "      <td>False</td>\n",
       "    </tr>\n",
       "    <tr>\n",
       "      <th>2021-01-04</th>\n",
       "      <td>2021-01-04</td>\n",
       "      <td>2021</td>\n",
       "      <td>1</td>\n",
       "      <td>1</td>\n",
       "      <td>January</td>\n",
       "      <td>Jan</td>\n",
       "      <td>4</td>\n",
       "      <td>2</td>\n",
       "      <td>Monday</td>\n",
       "      <td>Mon</td>\n",
       "      <td>1</td>\n",
       "      <td>False</td>\n",
       "      <td>2021</td>\n",
       "      <td>1</td>\n",
       "      <td>1</td>\n",
       "      <td>False</td>\n",
       "      <td>False</td>\n",
       "      <td>False</td>\n",
       "    </tr>\n",
       "    <tr>\n",
       "      <th>2021-01-05</th>\n",
       "      <td>2021-01-05</td>\n",
       "      <td>2021</td>\n",
       "      <td>1</td>\n",
       "      <td>1</td>\n",
       "      <td>January</td>\n",
       "      <td>Jan</td>\n",
       "      <td>5</td>\n",
       "      <td>3</td>\n",
       "      <td>Tuesday</td>\n",
       "      <td>Tue</td>\n",
       "      <td>1</td>\n",
       "      <td>False</td>\n",
       "      <td>2021</td>\n",
       "      <td>1</td>\n",
       "      <td>1</td>\n",
       "      <td>False</td>\n",
       "      <td>False</td>\n",
       "      <td>False</td>\n",
       "    </tr>\n",
       "  </tbody>\n",
       "</table>\n",
       "</div>"
      ],
      "text/plain": [
       "                 date  year  quarter  month month_name month_abbreviation  \\\n",
       "2021-01-01 2021-01-01  2021        1      1    January                Jan   \n",
       "2021-01-02 2021-01-02  2021        1      1    January                Jan   \n",
       "2021-01-03 2021-01-03  2021        1      1    January                Jan   \n",
       "2021-01-04 2021-01-04  2021        1      1    January                Jan   \n",
       "2021-01-05 2021-01-05  2021        1      1    January                Jan   \n",
       "\n",
       "            day  day_of_week  day_name day_abbreviation  week  is_weekend  \\\n",
       "2021-01-01    1            6    Friday              Fri    53       False   \n",
       "2021-01-02    2            7  Saturday              Sat    53        True   \n",
       "2021-01-03    3            8    Sunday              Sun    53        True   \n",
       "2021-01-04    4            2    Monday              Mon     1       False   \n",
       "2021-01-05    5            3   Tuesday              Tue     1       False   \n",
       "\n",
       "            fiscal_year  fiscal_quarter  fiscal_month  is_last_day_of_month  \\\n",
       "2021-01-01         2021               1             1                 False   \n",
       "2021-01-02         2021               1             1                 False   \n",
       "2021-01-03         2021               1             1                 False   \n",
       "2021-01-04         2021               1             1                 False   \n",
       "2021-01-05         2021               1             1                 False   \n",
       "\n",
       "            is_last_day_of_quarter  is_last_day_of_year  \n",
       "2021-01-01                   False                False  \n",
       "2021-01-02                   False                False  \n",
       "2021-01-03                   False                False  \n",
       "2021-01-04                   False                False  \n",
       "2021-01-05                   False                False  "
      ]
     },
     "execution_count": 26,
     "metadata": {},
     "output_type": "execute_result"
    }
   ],
   "source": [
    "df_date.head()"
   ]
  },
  {
   "cell_type": "code",
   "execution_count": 27,
   "metadata": {},
   "outputs": [
    {
     "name": "stdout",
     "output_type": "stream",
     "text": [
      "DataFrame loaded successfully into dbo.dim_date\n"
     ]
    }
   ],
   "source": [
    "load_table(df_date, 'dim_date', 'dbo')"
   ]
  }
 ],
 "metadata": {
  "kernelspec": {
   "display_name": ".venv",
   "language": "python",
   "name": "python3"
  },
  "language_info": {
   "codemirror_mode": {
    "name": "ipython",
    "version": 3
   },
   "file_extension": ".py",
   "mimetype": "text/x-python",
   "name": "python",
   "nbconvert_exporter": "python",
   "pygments_lexer": "ipython3",
   "version": "3.12.5"
  }
 },
 "nbformat": 4,
 "nbformat_minor": 2
}
