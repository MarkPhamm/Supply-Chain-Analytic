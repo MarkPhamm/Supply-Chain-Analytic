{
 "cells": [
  {
   "cell_type": "code",
   "execution_count": 3,
   "metadata": {},
   "outputs": [],
   "source": [
    "import pandas as pd\n",
    "import pyodbc\n",
    "import duckdb\n",
    "\n",
    "import os\n",
    "import sys"
   ]
  },
  {
   "cell_type": "code",
   "execution_count": 4,
   "metadata": {},
   "outputs": [],
   "source": [
    "# Get the current working directory\n",
    "current_dir = os.getcwd()\n",
    "# Move up one level from the current directory\n",
    "parent_dir = os.path.dirname(current_dir)\n",
    "# Change directory into data directory\n",
    "data_dir = os.path.join(parent_dir, 'data')"
   ]
  },
  {
   "cell_type": "code",
   "execution_count": 5,
   "metadata": {},
   "outputs": [],
   "source": [
    "sys.path.append(parent_dir)"
   ]
  },
  {
   "cell_type": "code",
   "execution_count": 6,
   "metadata": {},
   "outputs": [],
   "source": [
    "import config as cfg"
   ]
  },
  {
   "cell_type": "markdown",
   "metadata": {},
   "source": [
    "# 1. Extract\n",
    "Extract table from SQL server"
   ]
  },
  {
   "cell_type": "code",
   "execution_count": 7,
   "metadata": {},
   "outputs": [],
   "source": [
    "def extract_table(table_name):\n",
    "    # Step 1: Define the connection string\n",
    "    conn_str = (\n",
    "        'DRIVER={SQL Server};'\n",
    "        F'SERVER={cfg.SERVER_NAME};'\n",
    "        F'DATABASE={cfg.DATABASE_NAME};'\n",
    "        'Trusted_Connection=yes;'\n",
    "    )\n",
    "    \n",
    "    # Step 2: Create the connection\n",
    "    connection = pyodbc.connect(conn_str)\n",
    "    \n",
    "    # Step 3: Execute a SQL query and fetch the results\n",
    "    query = F\"SELECT * FROM {table_name}\" \n",
    "\n",
    "    df = pd.read_sql(query, connection)\n",
    "\n",
    "    connection.close()\n",
    "    return df"
   ]
  },
  {
   "cell_type": "code",
   "execution_count": 8,
   "metadata": {},
   "outputs": [
    {
     "name": "stderr",
     "output_type": "stream",
     "text": [
      "C:\\Users\\hamin\\AppData\\Local\\Temp\\ipykernel_65044\\1656715866.py:16: UserWarning: pandas only supports SQLAlchemy connectable (engine/connection) or database string URI or sqlite3 DBAPI2 connection. Other DBAPI2 objects are not tested. Please consider using SQLAlchemy.\n",
      "  df = pd.read_sql(query, connection)\n"
     ]
    }
   ],
   "source": [
    "df_dim_date = extract_table(\"dbo.dim_date\")\n",
    "df_inventory = extract_table(\"original.inventory\")\n",
    "df_orders = extract_table(\"original.orders\")\n",
    "df_fulfillment = extract_table(\"original.fulfillment\")"
   ]
  },
  {
   "cell_type": "code",
   "execution_count": 9,
   "metadata": {},
   "outputs": [
    {
     "data": {
      "text/html": [
       "<div>\n",
       "<style scoped>\n",
       "    .dataframe tbody tr th:only-of-type {\n",
       "        vertical-align: middle;\n",
       "    }\n",
       "\n",
       "    .dataframe tbody tr th {\n",
       "        vertical-align: top;\n",
       "    }\n",
       "\n",
       "    .dataframe thead th {\n",
       "        text-align: right;\n",
       "    }\n",
       "</style>\n",
       "<table border=\"1\" class=\"dataframe\">\n",
       "  <thead>\n",
       "    <tr style=\"text-align: right;\">\n",
       "      <th></th>\n",
       "      <th>order_id</th>\n",
       "      <th>order_item_id</th>\n",
       "      <th>order_year_month</th>\n",
       "      <th>order_year</th>\n",
       "      <th>order_month</th>\n",
       "      <th>order_day</th>\n",
       "      <th>order_time</th>\n",
       "      <th>order_quantity</th>\n",
       "      <th>product_department</th>\n",
       "      <th>product_category</th>\n",
       "      <th>...</th>\n",
       "      <th>customer_country</th>\n",
       "      <th>warehouse_country</th>\n",
       "      <th>shipment_year</th>\n",
       "      <th>shipment_month</th>\n",
       "      <th>shipment_day</th>\n",
       "      <th>shipment_mode</th>\n",
       "      <th>shipment_days_scheduled</th>\n",
       "      <th>gross_sales</th>\n",
       "      <th>discount_percent</th>\n",
       "      <th>profit</th>\n",
       "    </tr>\n",
       "  </thead>\n",
       "  <tbody>\n",
       "    <tr>\n",
       "      <th>0</th>\n",
       "      <td>1</td>\n",
       "      <td>4381</td>\n",
       "      <td>202101</td>\n",
       "      <td>2021</td>\n",
       "      <td>1</td>\n",
       "      <td>1</td>\n",
       "      <td>2:48</td>\n",
       "      <td>1</td>\n",
       "      <td>Fan Shop</td>\n",
       "      <td>Water Sports</td>\n",
       "      <td>...</td>\n",
       "      <td>Nicaragua</td>\n",
       "      <td>USA</td>\n",
       "      <td>2021</td>\n",
       "      <td>1</td>\n",
       "      <td>6</td>\n",
       "      <td>Same Day</td>\n",
       "      <td>3</td>\n",
       "      <td>200</td>\n",
       "      <td>0.09</td>\n",
       "      <td>100</td>\n",
       "    </tr>\n",
       "    <tr>\n",
       "      <th>1</th>\n",
       "      <td>2</td>\n",
       "      <td>29</td>\n",
       "      <td>202101</td>\n",
       "      <td>2021</td>\n",
       "      <td>1</td>\n",
       "      <td>1</td>\n",
       "      <td>3:30</td>\n",
       "      <td>1</td>\n",
       "      <td>Apparel</td>\n",
       "      <td>Cleats</td>\n",
       "      <td>...</td>\n",
       "      <td>Brazil</td>\n",
       "      <td>Puerto Rico</td>\n",
       "      <td>2021</td>\n",
       "      <td>1</td>\n",
       "      <td>3</td>\n",
       "      <td>Standard Class</td>\n",
       "      <td>4</td>\n",
       "      <td>60</td>\n",
       "      <td>0.2</td>\n",
       "      <td>147</td>\n",
       "    </tr>\n",
       "    <tr>\n",
       "      <th>2</th>\n",
       "      <td>3</td>\n",
       "      <td>32</td>\n",
       "      <td>202101</td>\n",
       "      <td>2021</td>\n",
       "      <td>1</td>\n",
       "      <td>1</td>\n",
       "      <td>3:30</td>\n",
       "      <td>4</td>\n",
       "      <td>Footwear</td>\n",
       "      <td>Cardio Equipment</td>\n",
       "      <td>...</td>\n",
       "      <td>Brazil</td>\n",
       "      <td>Puerto Rico</td>\n",
       "      <td>2021</td>\n",
       "      <td>1</td>\n",
       "      <td>3</td>\n",
       "      <td>Standard Class</td>\n",
       "      <td>4</td>\n",
       "      <td>400</td>\n",
       "      <td>0.06</td>\n",
       "      <td>245</td>\n",
       "    </tr>\n",
       "    <tr>\n",
       "      <th>3</th>\n",
       "      <td>4</td>\n",
       "      <td>33</td>\n",
       "      <td>202101</td>\n",
       "      <td>2021</td>\n",
       "      <td>1</td>\n",
       "      <td>1</td>\n",
       "      <td>3:30</td>\n",
       "      <td>5</td>\n",
       "      <td>Fan Shop</td>\n",
       "      <td>Indoor/Outdoor Games</td>\n",
       "      <td>...</td>\n",
       "      <td>Brazil</td>\n",
       "      <td>Puerto Rico</td>\n",
       "      <td>2023</td>\n",
       "      <td>9</td>\n",
       "      <td>5</td>\n",
       "      <td>Standard Class</td>\n",
       "      <td>4</td>\n",
       "      <td>250</td>\n",
       "      <td>0.09</td>\n",
       "      <td>125</td>\n",
       "    </tr>\n",
       "    <tr>\n",
       "      <th>4</th>\n",
       "      <td>5</td>\n",
       "      <td>109801</td>\n",
       "      <td>202101</td>\n",
       "      <td>2021</td>\n",
       "      <td>1</td>\n",
       "      <td>1</td>\n",
       "      <td>4:12</td>\n",
       "      <td>5</td>\n",
       "      <td>Footwear</td>\n",
       "      <td>Electronics</td>\n",
       "      <td>...</td>\n",
       "      <td>Belarus</td>\n",
       "      <td>USA</td>\n",
       "      <td>2021</td>\n",
       "      <td>1</td>\n",
       "      <td>5</td>\n",
       "      <td>Standard Class</td>\n",
       "      <td>4</td>\n",
       "      <td>160</td>\n",
       "      <td>0.15</td>\n",
       "      <td>75</td>\n",
       "    </tr>\n",
       "  </tbody>\n",
       "</table>\n",
       "<p>5 rows × 24 columns</p>\n",
       "</div>"
      ],
      "text/plain": [
       "   order_id  order_item_id  order_year_month  order_year  order_month  \\\n",
       "0         1           4381            202101        2021            1   \n",
       "1         2             29            202101        2021            1   \n",
       "2         3             32            202101        2021            1   \n",
       "3         4             33            202101        2021            1   \n",
       "4         5         109801            202101        2021            1   \n",
       "\n",
       "   order_day order_time  order_quantity product_department  \\\n",
       "0          1       2:48               1           Fan Shop   \n",
       "1          1       3:30               1            Apparel   \n",
       "2          1       3:30               4           Footwear   \n",
       "3          1       3:30               5           Fan Shop   \n",
       "4          1       4:12               5           Footwear   \n",
       "\n",
       "       product_category  ... customer_country  warehouse_country  \\\n",
       "0          Water Sports  ...        Nicaragua                USA   \n",
       "1                Cleats  ...           Brazil        Puerto Rico   \n",
       "2      Cardio Equipment  ...           Brazil        Puerto Rico   \n",
       "3  Indoor/Outdoor Games  ...           Brazil        Puerto Rico   \n",
       "4           Electronics  ...          Belarus                USA   \n",
       "\n",
       "  shipment_year shipment_month shipment_day   shipment_mode  \\\n",
       "0          2021              1            6        Same Day   \n",
       "1          2021              1            3  Standard Class   \n",
       "2          2021              1            3  Standard Class   \n",
       "3          2023              9            5  Standard Class   \n",
       "4          2021              1            5  Standard Class   \n",
       "\n",
       "   shipment_days_scheduled  gross_sales  discount_percent profit  \n",
       "0                        3          200              0.09    100  \n",
       "1                        4           60               0.2    147  \n",
       "2                        4          400              0.06    245  \n",
       "3                        4          250              0.09    125  \n",
       "4                        4          160              0.15     75  \n",
       "\n",
       "[5 rows x 24 columns]"
      ]
     },
     "execution_count": 9,
     "metadata": {},
     "output_type": "execute_result"
    }
   ],
   "source": [
    "df_orders.head()"
   ]
  },
  {
   "cell_type": "code",
   "execution_count": 10,
   "metadata": {},
   "outputs": [
    {
     "data": {
      "text/html": [
       "<div>\n",
       "<style scoped>\n",
       "    .dataframe tbody tr th:only-of-type {\n",
       "        vertical-align: middle;\n",
       "    }\n",
       "\n",
       "    .dataframe tbody tr th {\n",
       "        vertical-align: top;\n",
       "    }\n",
       "\n",
       "    .dataframe thead th {\n",
       "        text-align: right;\n",
       "    }\n",
       "</style>\n",
       "<table border=\"1\" class=\"dataframe\">\n",
       "  <thead>\n",
       "    <tr style=\"text-align: right;\">\n",
       "      <th></th>\n",
       "      <th>product_name</th>\n",
       "      <th>year_month</th>\n",
       "      <th>warehouse_inventory</th>\n",
       "      <th>inventory_cost_per_unit</th>\n",
       "    </tr>\n",
       "  </thead>\n",
       "  <tbody>\n",
       "    <tr>\n",
       "      <th>0</th>\n",
       "      <td>Perfect Fitness Perfect Rip Deck</td>\n",
       "      <td>202312</td>\n",
       "      <td>0</td>\n",
       "      <td>0.69517</td>\n",
       "    </tr>\n",
       "    <tr>\n",
       "      <th>1</th>\n",
       "      <td>Nike Men's Dri-FIT Victory Golf Polo</td>\n",
       "      <td>202312</td>\n",
       "      <td>2</td>\n",
       "      <td>1.29291</td>\n",
       "    </tr>\n",
       "    <tr>\n",
       "      <th>2</th>\n",
       "      <td>O'Brien Men's Neoprene Life Vest</td>\n",
       "      <td>202312</td>\n",
       "      <td>0</td>\n",
       "      <td>0.56531</td>\n",
       "    </tr>\n",
       "    <tr>\n",
       "      <th>3</th>\n",
       "      <td>Nike Men's Free 5.0+ Running Shoe</td>\n",
       "      <td>202312</td>\n",
       "      <td>1</td>\n",
       "      <td>1.26321</td>\n",
       "    </tr>\n",
       "    <tr>\n",
       "      <th>4</th>\n",
       "      <td>Under Armour Girls' Toddler Spine Surge Runni</td>\n",
       "      <td>202312</td>\n",
       "      <td>0</td>\n",
       "      <td>1.47648</td>\n",
       "    </tr>\n",
       "  </tbody>\n",
       "</table>\n",
       "</div>"
      ],
      "text/plain": [
       "                                    product_name  year_month  \\\n",
       "0               Perfect Fitness Perfect Rip Deck      202312   \n",
       "1           Nike Men's Dri-FIT Victory Golf Polo      202312   \n",
       "2               O'Brien Men's Neoprene Life Vest      202312   \n",
       "3              Nike Men's Free 5.0+ Running Shoe      202312   \n",
       "4  Under Armour Girls' Toddler Spine Surge Runni      202312   \n",
       "\n",
       "   warehouse_inventory  inventory_cost_per_unit  \n",
       "0                    0                  0.69517  \n",
       "1                    2                  1.29291  \n",
       "2                    0                  0.56531  \n",
       "3                    1                  1.26321  \n",
       "4                    0                  1.47648  "
      ]
     },
     "execution_count": 10,
     "metadata": {},
     "output_type": "execute_result"
    }
   ],
   "source": [
    "df_inventory.head()"
   ]
  },
  {
   "cell_type": "code",
   "execution_count": 11,
   "metadata": {},
   "outputs": [
    {
     "data": {
      "text/html": [
       "<div>\n",
       "<style scoped>\n",
       "    .dataframe tbody tr th:only-of-type {\n",
       "        vertical-align: middle;\n",
       "    }\n",
       "\n",
       "    .dataframe tbody tr th {\n",
       "        vertical-align: top;\n",
       "    }\n",
       "\n",
       "    .dataframe thead th {\n",
       "        text-align: right;\n",
       "    }\n",
       "</style>\n",
       "<table border=\"1\" class=\"dataframe\">\n",
       "  <thead>\n",
       "    <tr style=\"text-align: right;\">\n",
       "      <th></th>\n",
       "      <th>product_name</th>\n",
       "      <th>warehouse_order_fulfillment_days</th>\n",
       "    </tr>\n",
       "  </thead>\n",
       "  <tbody>\n",
       "    <tr>\n",
       "      <th>0</th>\n",
       "      <td>Perfect Fitness Perfect Rip Deck</td>\n",
       "      <td>8.3</td>\n",
       "    </tr>\n",
       "    <tr>\n",
       "      <th>1</th>\n",
       "      <td>Nike Men's Dri-FIT Victory Golf Polo</td>\n",
       "      <td>6.6</td>\n",
       "    </tr>\n",
       "    <tr>\n",
       "      <th>2</th>\n",
       "      <td>O'Brien Men's Neoprene Life Vest</td>\n",
       "      <td>5.5</td>\n",
       "    </tr>\n",
       "    <tr>\n",
       "      <th>3</th>\n",
       "      <td>Nike Men's Free 5.0+ Running Shoe</td>\n",
       "      <td>9.4</td>\n",
       "    </tr>\n",
       "    <tr>\n",
       "      <th>4</th>\n",
       "      <td>Under Armour Girls' Toddler Spine Surge Runni</td>\n",
       "      <td>6.3</td>\n",
       "    </tr>\n",
       "  </tbody>\n",
       "</table>\n",
       "</div>"
      ],
      "text/plain": [
       "                                    product_name  \\\n",
       "0               Perfect Fitness Perfect Rip Deck   \n",
       "1           Nike Men's Dri-FIT Victory Golf Polo   \n",
       "2               O'Brien Men's Neoprene Life Vest   \n",
       "3              Nike Men's Free 5.0+ Running Shoe   \n",
       "4  Under Armour Girls' Toddler Spine Surge Runni   \n",
       "\n",
       "   warehouse_order_fulfillment_days  \n",
       "0                               8.3  \n",
       "1                               6.6  \n",
       "2                               5.5  \n",
       "3                               9.4  \n",
       "4                               6.3  "
      ]
     },
     "execution_count": 11,
     "metadata": {},
     "output_type": "execute_result"
    }
   ],
   "source": [
    "df_fulfillment.head()"
   ]
  },
  {
   "cell_type": "markdown",
   "metadata": {},
   "source": [
    "# 2. Transform \n",
    "Modelling with DuckDB"
   ]
  },
  {
   "cell_type": "code",
   "execution_count": 12,
   "metadata": {},
   "outputs": [],
   "source": [
    "# Step 1: Create a DuckDB in-memory connection\n",
    "con = duckdb.connect()"
   ]
  },
  {
   "cell_type": "code",
   "execution_count": 13,
   "metadata": {},
   "outputs": [
    {
     "data": {
      "text/plain": [
       "<duckdb.duckdb.DuckDBPyConnection at 0x22204ba23b0>"
      ]
     },
     "execution_count": 13,
     "metadata": {},
     "output_type": "execute_result"
    }
   ],
   "source": [
    "con.unregister('df_orders')"
   ]
  },
  {
   "cell_type": "code",
   "execution_count": 14,
   "metadata": {},
   "outputs": [
    {
     "data": {
      "text/plain": [
       "<duckdb.duckdb.DuckDBPyConnection at 0x22204ba23b0>"
      ]
     },
     "execution_count": 14,
     "metadata": {},
     "output_type": "execute_result"
    }
   ],
   "source": [
    "# Step 2: Register the DataFrames with DuckDB\n",
    "con.register('df_fulfillment', df_fulfillment)\n",
    "con.register('df_orders', df_orders)\n",
    "con.register('df_inventory', df_inventory)"
   ]
  },
  {
   "cell_type": "code",
   "execution_count": 15,
   "metadata": {},
   "outputs": [],
   "source": [
    "# Step 3: Execute the SQL query using DuckDB\n",
    "dim_product_query = \"\"\"\n",
    "WITH cte_fulfillment AS (\n",
    "    SELECT * \n",
    "    FROM df_fulfillment\n",
    "),\n",
    "\n",
    "cte_product AS (\n",
    "    SELECT DISTINCT \n",
    "        product_name, \n",
    "        product_category,\n",
    "        product_department\n",
    "    FROM df_orders\n",
    ")\n",
    "SELECT \n",
    "    cte_fulfillment.product_name,\n",
    "    CASE WHEN product_category IS NULL THEN 'Unknown' ELSE product_category END AS product_category,\n",
    "    CASE WHEN product_department IS NULL THEN 'Unknown' ELSE product_department END AS product_department,\n",
    "    warehouse_order_fulfillment_days\n",
    "FROM cte_fulfillment\n",
    "LEFT JOIN cte_product\n",
    "ON cte_fulfillment.product_name = cte_product.product_name\n",
    "-- WHERE product_category IS NULL\n",
    "ORDER BY 3,2\n",
    ";\n",
    "\"\"\""
   ]
  },
  {
   "cell_type": "code",
   "execution_count": 16,
   "metadata": {},
   "outputs": [],
   "source": [
    "# Step 4: Execute the query and fetch the result into a DataFrame\n",
    "df_dim_product = con.execute(dim_product_query).df()"
   ]
  },
  {
   "cell_type": "code",
   "execution_count": 17,
   "metadata": {},
   "outputs": [
    {
     "data": {
      "text/html": [
       "<div>\n",
       "<style scoped>\n",
       "    .dataframe tbody tr th:only-of-type {\n",
       "        vertical-align: middle;\n",
       "    }\n",
       "\n",
       "    .dataframe tbody tr th {\n",
       "        vertical-align: top;\n",
       "    }\n",
       "\n",
       "    .dataframe thead th {\n",
       "        text-align: right;\n",
       "    }\n",
       "</style>\n",
       "<table border=\"1\" class=\"dataframe\">\n",
       "  <thead>\n",
       "    <tr style=\"text-align: right;\">\n",
       "      <th></th>\n",
       "      <th>product_name</th>\n",
       "      <th>product_category</th>\n",
       "      <th>product_department</th>\n",
       "      <th>warehouse_order_fulfillment_days</th>\n",
       "    </tr>\n",
       "  </thead>\n",
       "  <tbody>\n",
       "    <tr>\n",
       "      <th>0</th>\n",
       "      <td>Baby sweater</td>\n",
       "      <td>Baby</td>\n",
       "      <td>Apparel</td>\n",
       "      <td>7.9</td>\n",
       "    </tr>\n",
       "    <tr>\n",
       "      <th>1</th>\n",
       "      <td>Children's heaters</td>\n",
       "      <td>Children's Clothing</td>\n",
       "      <td>Apparel</td>\n",
       "      <td>2.7</td>\n",
       "    </tr>\n",
       "    <tr>\n",
       "      <th>2</th>\n",
       "      <td>Total Gym 1400</td>\n",
       "      <td>Cleats</td>\n",
       "      <td>Apparel</td>\n",
       "      <td>1.3</td>\n",
       "    </tr>\n",
       "    <tr>\n",
       "      <th>3</th>\n",
       "      <td>Perfect Fitness Perfect Rip Deck</td>\n",
       "      <td>Cleats</td>\n",
       "      <td>Apparel</td>\n",
       "      <td>8.3</td>\n",
       "    </tr>\n",
       "    <tr>\n",
       "      <th>4</th>\n",
       "      <td>Porcelain crafts</td>\n",
       "      <td>Crafts</td>\n",
       "      <td>Apparel</td>\n",
       "      <td>7.1</td>\n",
       "    </tr>\n",
       "  </tbody>\n",
       "</table>\n",
       "</div>"
      ],
      "text/plain": [
       "                       product_name     product_category product_department  \\\n",
       "0                      Baby sweater                 Baby            Apparel   \n",
       "1                Children's heaters  Children's Clothing            Apparel   \n",
       "2                    Total Gym 1400               Cleats            Apparel   \n",
       "3  Perfect Fitness Perfect Rip Deck               Cleats            Apparel   \n",
       "4                  Porcelain crafts               Crafts            Apparel   \n",
       "\n",
       "   warehouse_order_fulfillment_days  \n",
       "0                               7.9  \n",
       "1                               2.7  \n",
       "2                               1.3  \n",
       "3                               8.3  \n",
       "4                               7.1  "
      ]
     },
     "execution_count": 17,
     "metadata": {},
     "output_type": "execute_result"
    }
   ],
   "source": [
    "df_dim_product.head()"
   ]
  },
  {
   "cell_type": "code",
   "execution_count": 18,
   "metadata": {},
   "outputs": [],
   "source": [
    "# Similar with dim_customer_query\n",
    "dim_customer_query = \"\"\"\n",
    "SELECT distinct\n",
    "    customer_country, \n",
    "    customer_market,\n",
    "    CASE\n",
    "        WHEN customer_country = 'USA' THEN 'USA'\n",
    "    ELSE customer_region END AS customer_region\n",
    "FROM df_orders\n",
    ";\n",
    "\"\"\""
   ]
  },
  {
   "cell_type": "code",
   "execution_count": 19,
   "metadata": {},
   "outputs": [],
   "source": [
    "df_dim_customer = con.execute(dim_customer_query).df()"
   ]
  },
  {
   "cell_type": "code",
   "execution_count": 20,
   "metadata": {},
   "outputs": [
    {
     "data": {
      "text/html": [
       "<div>\n",
       "<style scoped>\n",
       "    .dataframe tbody tr th:only-of-type {\n",
       "        vertical-align: middle;\n",
       "    }\n",
       "\n",
       "    .dataframe tbody tr th {\n",
       "        vertical-align: top;\n",
       "    }\n",
       "\n",
       "    .dataframe thead th {\n",
       "        text-align: right;\n",
       "    }\n",
       "</style>\n",
       "<table border=\"1\" class=\"dataframe\">\n",
       "  <thead>\n",
       "    <tr style=\"text-align: right;\">\n",
       "      <th></th>\n",
       "      <th>customer_country</th>\n",
       "      <th>customer_market</th>\n",
       "      <th>customer_region</th>\n",
       "    </tr>\n",
       "  </thead>\n",
       "  <tbody>\n",
       "    <tr>\n",
       "      <th>0</th>\n",
       "      <td>Australia</td>\n",
       "      <td>Pacific Asia</td>\n",
       "      <td>Oceania</td>\n",
       "    </tr>\n",
       "    <tr>\n",
       "      <th>1</th>\n",
       "      <td>Norway</td>\n",
       "      <td>Europe</td>\n",
       "      <td>Northern Europe</td>\n",
       "    </tr>\n",
       "    <tr>\n",
       "      <th>2</th>\n",
       "      <td>India</td>\n",
       "      <td>Pacific Asia</td>\n",
       "      <td>South Asia</td>\n",
       "    </tr>\n",
       "    <tr>\n",
       "      <th>3</th>\n",
       "      <td>Jamaica</td>\n",
       "      <td>LATAM</td>\n",
       "      <td>Caribbean</td>\n",
       "    </tr>\n",
       "    <tr>\n",
       "      <th>4</th>\n",
       "      <td>Trinidad and Tobago</td>\n",
       "      <td>LATAM</td>\n",
       "      <td>Caribbean</td>\n",
       "    </tr>\n",
       "    <tr>\n",
       "      <th>...</th>\n",
       "      <td>...</td>\n",
       "      <td>...</td>\n",
       "      <td>...</td>\n",
       "    </tr>\n",
       "    <tr>\n",
       "      <th>134</th>\n",
       "      <td>Mauritania</td>\n",
       "      <td>Africa</td>\n",
       "      <td>West Africa</td>\n",
       "    </tr>\n",
       "    <tr>\n",
       "      <th>135</th>\n",
       "      <td>Niger</td>\n",
       "      <td>Africa</td>\n",
       "      <td>West Africa</td>\n",
       "    </tr>\n",
       "    <tr>\n",
       "      <th>136</th>\n",
       "      <td>Rwanda</td>\n",
       "      <td>Africa</td>\n",
       "      <td>East Africa</td>\n",
       "    </tr>\n",
       "    <tr>\n",
       "      <th>137</th>\n",
       "      <td>Lesotho</td>\n",
       "      <td>Africa</td>\n",
       "      <td>Southern Africa</td>\n",
       "    </tr>\n",
       "    <tr>\n",
       "      <th>138</th>\n",
       "      <td>Belize</td>\n",
       "      <td>LATAM</td>\n",
       "      <td>Central America</td>\n",
       "    </tr>\n",
       "  </tbody>\n",
       "</table>\n",
       "<p>139 rows × 3 columns</p>\n",
       "</div>"
      ],
      "text/plain": [
       "        customer_country customer_market  customer_region\n",
       "0              Australia    Pacific Asia          Oceania\n",
       "1                 Norway          Europe  Northern Europe\n",
       "2                  India    Pacific Asia       South Asia\n",
       "3                Jamaica           LATAM        Caribbean\n",
       "4    Trinidad and Tobago           LATAM        Caribbean\n",
       "..                   ...             ...              ...\n",
       "134           Mauritania          Africa      West Africa\n",
       "135                Niger          Africa      West Africa\n",
       "136               Rwanda          Africa      East Africa\n",
       "137              Lesotho          Africa  Southern Africa\n",
       "138               Belize           LATAM  Central America\n",
       "\n",
       "[139 rows x 3 columns]"
      ]
     },
     "execution_count": 20,
     "metadata": {},
     "output_type": "execute_result"
    }
   ],
   "source": [
    "df_dim_customer"
   ]
  },
  {
   "cell_type": "code",
   "execution_count": 21,
   "metadata": {},
   "outputs": [
    {
     "data": {
      "text/html": [
       "<div>\n",
       "<style scoped>\n",
       "    .dataframe tbody tr th:only-of-type {\n",
       "        vertical-align: middle;\n",
       "    }\n",
       "\n",
       "    .dataframe tbody tr th {\n",
       "        vertical-align: top;\n",
       "    }\n",
       "\n",
       "    .dataframe thead th {\n",
       "        text-align: right;\n",
       "    }\n",
       "</style>\n",
       "<table border=\"1\" class=\"dataframe\">\n",
       "  <thead>\n",
       "    <tr style=\"text-align: right;\">\n",
       "      <th></th>\n",
       "      <th>customer_country</th>\n",
       "      <th>customer_market</th>\n",
       "      <th>customer_region</th>\n",
       "    </tr>\n",
       "  </thead>\n",
       "  <tbody>\n",
       "    <tr>\n",
       "      <th>20</th>\n",
       "      <td>USA</td>\n",
       "      <td>North America</td>\n",
       "      <td>USA</td>\n",
       "    </tr>\n",
       "  </tbody>\n",
       "</table>\n",
       "</div>"
      ],
      "text/plain": [
       "   customer_country customer_market customer_region\n",
       "20              USA   North America             USA"
      ]
     },
     "execution_count": 21,
     "metadata": {},
     "output_type": "execute_result"
    }
   ],
   "source": [
    "df_dim_customer.loc[df_dim_customer['customer_country']=='USA']"
   ]
  },
  {
   "cell_type": "code",
   "execution_count": 22,
   "metadata": {},
   "outputs": [],
   "source": [
    "# similar to dim_shipment\n",
    "dim_shipment_query = \"\"\"\n",
    "SELECT distinct \n",
    "    shipment_mode, \n",
    "    shipment_days_scheduled\n",
    "FROM df_orders\n",
    "ORDER BY 2;\n",
    "\"\"\""
   ]
  },
  {
   "cell_type": "code",
   "execution_count": 23,
   "metadata": {},
   "outputs": [],
   "source": [
    "df_dim_shipment = con.execute(dim_shipment_query).df()"
   ]
  },
  {
   "cell_type": "code",
   "execution_count": 24,
   "metadata": {},
   "outputs": [
    {
     "data": {
      "text/html": [
       "<div>\n",
       "<style scoped>\n",
       "    .dataframe tbody tr th:only-of-type {\n",
       "        vertical-align: middle;\n",
       "    }\n",
       "\n",
       "    .dataframe tbody tr th {\n",
       "        vertical-align: top;\n",
       "    }\n",
       "\n",
       "    .dataframe thead th {\n",
       "        text-align: right;\n",
       "    }\n",
       "</style>\n",
       "<table border=\"1\" class=\"dataframe\">\n",
       "  <thead>\n",
       "    <tr style=\"text-align: right;\">\n",
       "      <th></th>\n",
       "      <th>shipment_mode</th>\n",
       "      <th>shipment_days_scheduled</th>\n",
       "    </tr>\n",
       "  </thead>\n",
       "  <tbody>\n",
       "    <tr>\n",
       "      <th>0</th>\n",
       "      <td>First Class</td>\n",
       "      <td>1</td>\n",
       "    </tr>\n",
       "    <tr>\n",
       "      <th>1</th>\n",
       "      <td>Second Class</td>\n",
       "      <td>2</td>\n",
       "    </tr>\n",
       "    <tr>\n",
       "      <th>2</th>\n",
       "      <td>Same Day</td>\n",
       "      <td>3</td>\n",
       "    </tr>\n",
       "    <tr>\n",
       "      <th>3</th>\n",
       "      <td>Standard Class</td>\n",
       "      <td>4</td>\n",
       "    </tr>\n",
       "  </tbody>\n",
       "</table>\n",
       "</div>"
      ],
      "text/plain": [
       "    shipment_mode  shipment_days_scheduled\n",
       "0     First Class                        1\n",
       "1    Second Class                        2\n",
       "2        Same Day                        3\n",
       "3  Standard Class                        4"
      ]
     },
     "execution_count": 24,
     "metadata": {},
     "output_type": "execute_result"
    }
   ],
   "source": [
    "df_dim_shipment"
   ]
  },
  {
   "cell_type": "code",
   "execution_count": 25,
   "metadata": {},
   "outputs": [],
   "source": [
    "# similar with fact_sales\n",
    "fact_orders_query = \"\"\"\n",
    "SELECT \n",
    "    order_id,\n",
    "    CAST(CONCAT(order_year, '-', order_month, '-', order_day) AS DATE) AS order_date,\n",
    "    order_time,\n",
    "    order_quantity,\n",
    "    product_name, \n",
    "    customer_country,\n",
    "    CAST(CONCAT(shipment_year, '-', shipment_month, '-', shipment_day) AS DATE) AS shipment_date,\n",
    "    shipment_mode,\n",
    "    gross_sales,\n",
    "    CAST(\n",
    "        CASE \n",
    "            WHEN discount_percent = '  -  ' THEN '0'\n",
    "            ELSE discount_percent\n",
    "        END AS FLOAT\n",
    "    ) AS discount_percent,\n",
    "    profit\n",
    "FROM \n",
    "    df_orders\n",
    "\"\"\"\n"
   ]
  },
  {
   "cell_type": "code",
   "execution_count": 26,
   "metadata": {},
   "outputs": [],
   "source": [
    "df_fact_orders = con.execute(fact_orders_query).df()"
   ]
  },
  {
   "cell_type": "code",
   "execution_count": 27,
   "metadata": {},
   "outputs": [
    {
     "data": {
      "text/html": [
       "<div>\n",
       "<style scoped>\n",
       "    .dataframe tbody tr th:only-of-type {\n",
       "        vertical-align: middle;\n",
       "    }\n",
       "\n",
       "    .dataframe tbody tr th {\n",
       "        vertical-align: top;\n",
       "    }\n",
       "\n",
       "    .dataframe thead th {\n",
       "        text-align: right;\n",
       "    }\n",
       "</style>\n",
       "<table border=\"1\" class=\"dataframe\">\n",
       "  <thead>\n",
       "    <tr style=\"text-align: right;\">\n",
       "      <th></th>\n",
       "      <th>order_id</th>\n",
       "      <th>order_date</th>\n",
       "      <th>order_time</th>\n",
       "      <th>order_quantity</th>\n",
       "      <th>product_name</th>\n",
       "      <th>customer_country</th>\n",
       "      <th>shipment_date</th>\n",
       "      <th>shipment_mode</th>\n",
       "      <th>gross_sales</th>\n",
       "      <th>discount_percent</th>\n",
       "      <th>profit</th>\n",
       "    </tr>\n",
       "  </thead>\n",
       "  <tbody>\n",
       "    <tr>\n",
       "      <th>0</th>\n",
       "      <td>1</td>\n",
       "      <td>2021-01-01</td>\n",
       "      <td>2:48</td>\n",
       "      <td>1</td>\n",
       "      <td>Pelican Sunstream 100 Kayak</td>\n",
       "      <td>Nicaragua</td>\n",
       "      <td>2021-01-06</td>\n",
       "      <td>Same Day</td>\n",
       "      <td>200</td>\n",
       "      <td>0.09</td>\n",
       "      <td>100</td>\n",
       "    </tr>\n",
       "    <tr>\n",
       "      <th>1</th>\n",
       "      <td>2</td>\n",
       "      <td>2021-01-01</td>\n",
       "      <td>3:30</td>\n",
       "      <td>1</td>\n",
       "      <td>Perfect Fitness Perfect Rip Deck</td>\n",
       "      <td>Brazil</td>\n",
       "      <td>2021-01-03</td>\n",
       "      <td>Standard Class</td>\n",
       "      <td>60</td>\n",
       "      <td>0.20</td>\n",
       "      <td>147</td>\n",
       "    </tr>\n",
       "    <tr>\n",
       "      <th>2</th>\n",
       "      <td>3</td>\n",
       "      <td>2021-01-01</td>\n",
       "      <td>3:30</td>\n",
       "      <td>4</td>\n",
       "      <td>Nike Men's Free 5.0+ Running Shoe</td>\n",
       "      <td>Brazil</td>\n",
       "      <td>2021-01-03</td>\n",
       "      <td>Standard Class</td>\n",
       "      <td>400</td>\n",
       "      <td>0.06</td>\n",
       "      <td>245</td>\n",
       "    </tr>\n",
       "    <tr>\n",
       "      <th>3</th>\n",
       "      <td>4</td>\n",
       "      <td>2021-01-01</td>\n",
       "      <td>3:30</td>\n",
       "      <td>5</td>\n",
       "      <td>O'Brien Men's Neoprene Life Vest</td>\n",
       "      <td>Brazil</td>\n",
       "      <td>2023-09-05</td>\n",
       "      <td>Standard Class</td>\n",
       "      <td>250</td>\n",
       "      <td>0.09</td>\n",
       "      <td>125</td>\n",
       "    </tr>\n",
       "    <tr>\n",
       "      <th>4</th>\n",
       "      <td>5</td>\n",
       "      <td>2021-01-01</td>\n",
       "      <td>4:12</td>\n",
       "      <td>5</td>\n",
       "      <td>Under Armour Women's Ignite Slide</td>\n",
       "      <td>Belarus</td>\n",
       "      <td>2021-01-05</td>\n",
       "      <td>Standard Class</td>\n",
       "      <td>160</td>\n",
       "      <td>0.15</td>\n",
       "      <td>75</td>\n",
       "    </tr>\n",
       "  </tbody>\n",
       "</table>\n",
       "</div>"
      ],
      "text/plain": [
       "   order_id order_date order_time  order_quantity  \\\n",
       "0         1 2021-01-01       2:48               1   \n",
       "1         2 2021-01-01       3:30               1   \n",
       "2         3 2021-01-01       3:30               4   \n",
       "3         4 2021-01-01       3:30               5   \n",
       "4         5 2021-01-01       4:12               5   \n",
       "\n",
       "                        product_name customer_country shipment_date  \\\n",
       "0        Pelican Sunstream 100 Kayak        Nicaragua    2021-01-06   \n",
       "1   Perfect Fitness Perfect Rip Deck           Brazil    2021-01-03   \n",
       "2  Nike Men's Free 5.0+ Running Shoe           Brazil    2021-01-03   \n",
       "3   O'Brien Men's Neoprene Life Vest           Brazil    2023-09-05   \n",
       "4  Under Armour Women's Ignite Slide          Belarus    2021-01-05   \n",
       "\n",
       "    shipment_mode  gross_sales  discount_percent  profit  \n",
       "0        Same Day          200              0.09     100  \n",
       "1  Standard Class           60              0.20     147  \n",
       "2  Standard Class          400              0.06     245  \n",
       "3  Standard Class          250              0.09     125  \n",
       "4  Standard Class          160              0.15      75  "
      ]
     },
     "execution_count": 27,
     "metadata": {},
     "output_type": "execute_result"
    }
   ],
   "source": [
    "df_fact_orders.head()"
   ]
  },
  {
   "cell_type": "code",
   "execution_count": 28,
   "metadata": {},
   "outputs": [
    {
     "data": {
      "text/plain": [
       "order_id                     int64\n",
       "order_date          datetime64[us]\n",
       "order_time                  object\n",
       "order_quantity               int64\n",
       "product_name                object\n",
       "customer_country            object\n",
       "shipment_date       datetime64[us]\n",
       "shipment_mode               object\n",
       "gross_sales                  int64\n",
       "discount_percent           float32\n",
       "profit                       int64\n",
       "dtype: object"
      ]
     },
     "execution_count": 28,
     "metadata": {},
     "output_type": "execute_result"
    }
   ],
   "source": [
    "df_fact_orders.dtypes"
   ]
  },
  {
   "cell_type": "code",
   "execution_count": 29,
   "metadata": {},
   "outputs": [],
   "source": [
    "df_fact_orders['order_date'] = pd.to_datetime(df_fact_orders['order_date']).dt.date "
   ]
  },
  {
   "cell_type": "code",
   "execution_count": 30,
   "metadata": {},
   "outputs": [
    {
     "data": {
      "text/plain": [
       "shipment_mode              object\n",
       "shipment_days_scheduled     int64\n",
       "dtype: object"
      ]
     },
     "execution_count": 30,
     "metadata": {},
     "output_type": "execute_result"
    }
   ],
   "source": [
    "df_dim_shipment.dtypes"
   ]
  },
  {
   "cell_type": "code",
   "execution_count": 31,
   "metadata": {},
   "outputs": [
    {
     "data": {
      "text/plain": [
       "customer_country    object\n",
       "customer_market     object\n",
       "customer_region     object\n",
       "dtype: object"
      ]
     },
     "execution_count": 31,
     "metadata": {},
     "output_type": "execute_result"
    }
   ],
   "source": [
    "df_dim_customer.dtypes"
   ]
  },
  {
   "cell_type": "code",
   "execution_count": 32,
   "metadata": {},
   "outputs": [
    {
     "data": {
      "text/plain": [
       "date                      object\n",
       "year                      object\n",
       "quarter                   object\n",
       "month                     object\n",
       "month_name                object\n",
       "month_abbreviation        object\n",
       "year_month                object\n",
       "day                       object\n",
       "day_of_week               object\n",
       "day_name                  object\n",
       "day_abbreviation          object\n",
       "week                      object\n",
       "is_weekend                  bool\n",
       "fiscal_year               object\n",
       "fiscal_quarter            object\n",
       "fiscal_month              object\n",
       "is_last_day_of_month        bool\n",
       "is_last_day_of_quarter      bool\n",
       "is_last_day_of_year         bool\n",
       "dtype: object"
      ]
     },
     "execution_count": 32,
     "metadata": {},
     "output_type": "execute_result"
    }
   ],
   "source": [
    "df_dim_date.dtypes"
   ]
  },
  {
   "cell_type": "markdown",
   "metadata": {},
   "source": [
    "# 3. Load "
   ]
  },
  {
   "cell_type": "markdown",
   "metadata": {},
   "source": [
    "\n",
    "## Load data back to SQL server"
   ]
  },
  {
   "cell_type": "code",
   "execution_count": 33,
   "metadata": {},
   "outputs": [],
   "source": [
    "def get_column_types(df):\n",
    "    # Map Pandas data types to SQL Server data types\n",
    "    type_map = {\n",
    "        'object': 'NVARCHAR(MAX)',\n",
    "        'int64': 'BIGINT',\n",
    "        'float64': 'FLOAT',\n",
    "        'datetime64[ns]': 'DATETIME2',  # Change this to 'DATE'\n",
    "        'bool': 'BIT'\n",
    "    }\n",
    "    return [type_map.get(str(dt), 'NVARCHAR(MAX)') for dt in df.dtypes]\n"
   ]
  },
  {
   "cell_type": "code",
   "execution_count": 34,
   "metadata": {},
   "outputs": [],
   "source": [
    "def load_table(df, table_name, schema_name):\n",
    "    # Define the connection string\n",
    "    conn_str = (\n",
    "        f'DRIVER={{SQL Server}};'\n",
    "        f'SERVER={cfg.SERVER_NAME};'\n",
    "        f'DATABASE={cfg.DATABASE_NAME};'\n",
    "        'Trusted_Connection=yes;'\n",
    "    )\n",
    "\n",
    "    # Create a pyodbc connection using the connection string\n",
    "    conn = pyodbc.connect(conn_str)\n",
    "    cursor = conn.cursor()\n",
    "\n",
    "    # Drop the table if it already exists\n",
    "    cursor.execute(f\"IF OBJECT_ID('{schema_name}.{table_name}', 'U') IS NOT NULL DROP TABLE {schema_name}.{table_name}\")\n",
    "    conn.commit()\n",
    "\n",
    "    # Create the table schema\n",
    "    columns = ', '.join([f'{col} {dtype}' for col, dtype in zip(df.columns, get_column_types(df))])\n",
    "    create_table_sql = f\"CREATE TABLE {schema_name}.{table_name} ({columns})\"\n",
    "    cursor.execute(create_table_sql)\n",
    "    conn.commit()\n",
    "\n",
    "    # Insert the data into the table\n",
    "    insert_sql = f\"INSERT INTO {schema_name}.{table_name} VALUES ({','.join(['?'] * len(df.columns))})\"\n",
    "    for _, row in df.iterrows():\n",
    "        cursor.execute(insert_sql, *row.tolist())\n",
    "    conn.commit()\n",
    "\n",
    "    cursor.close()\n",
    "    conn.close()\n",
    "    print(f\"DataFrame loaded successfully into {schema_name}.{table_name}\")"
   ]
  },
  {
   "cell_type": "code",
   "execution_count": 35,
   "metadata": {},
   "outputs": [],
   "source": [
    "df_fact_orders['order_date'] = df_fact_orders['order_date'].astype(str)\n",
    "df_fact_orders['shipment_date'] = df_fact_orders['shipment_date'].astype(str)\n"
   ]
  },
  {
   "cell_type": "code",
   "execution_count": 36,
   "metadata": {},
   "outputs": [
    {
     "name": "stdout",
     "output_type": "stream",
     "text": [
      "DataFrame loaded successfully into dbo.fact_orders\n",
      "DataFrame loaded successfully into dbo.dim_customer\n",
      "DataFrame loaded successfully into dbo.dim_shipment\n",
      "DataFrame loaded successfully into dbo.dim_product\n",
      "DataFrame loaded successfully into dbo.dim_date\n"
     ]
    }
   ],
   "source": [
    "load_table(df_fact_orders, 'fact_orders', 'dbo')\n",
    "load_table(df_dim_customer, 'dim_customer', 'dbo')\n",
    "load_table(df_dim_shipment, 'dim_shipment', 'dbo')\n",
    "load_table(df_dim_product, 'dim_product', 'dbo')\n",
    "load_table(df_dim_date, 'dim_date', 'dbo')"
   ]
  },
  {
   "cell_type": "markdown",
   "metadata": {},
   "source": [
    "## Load data to DuckDB"
   ]
  },
  {
   "cell_type": "code",
   "execution_count": 37,
   "metadata": {},
   "outputs": [],
   "source": [
    "# Get the current working directory\n",
    "current_dir = os.getcwd()\n",
    "# Move up one level from the current directory\n",
    "parent_dir = os.path.dirname(current_dir)\n",
    "# Change directory into db directory\n",
    "db_dir = os.path.join(parent_dir, 'db')"
   ]
  },
  {
   "cell_type": "code",
   "execution_count": 39,
   "metadata": {},
   "outputs": [],
   "source": [
    "# Connect to DuckDB and specify the file name you want to createa\n",
    "con = duckdb.connect(os.path.join(db_dir, 'swiftmart.db'))"
   ]
  },
  {
   "cell_type": "code",
   "execution_count": 41,
   "metadata": {},
   "outputs": [
    {
     "data": {
      "text/plain": [
       "<duckdb.duckdb.DuckDBPyConnection at 0x22204bc9df0>"
      ]
     },
     "execution_count": 41,
     "metadata": {},
     "output_type": "execute_result"
    }
   ],
   "source": [
    "# Create the schema if it doesn't exist\n",
    "con.execute(\"CREATE SCHEMA IF NOT EXISTS dbo\")"
   ]
  },
  {
   "cell_type": "code",
   "execution_count": 42,
   "metadata": {},
   "outputs": [],
   "source": [
    "def load_table(df, table_name, schema_name=''):\n",
    "    \"\"\"\n",
    "    Load a DataFrame into a specified table in DuckDB, truncating and reloading each time.\n",
    "    \n",
    "    Parameters:\n",
    "    - con: DuckDB connection object\n",
    "    - df: pandas DataFrame to load into the table\n",
    "    - table_name: name of the table to load data into\n",
    "    - schema_name: optional schema name; if provided, it will be included in the table name\n",
    "    \"\"\"\n",
    "    # Construct the full table name with schema if provided\n",
    "    if schema_name:\n",
    "        table_name = f\"{schema_name}.{table_name}\"\n",
    "    else:\n",
    "        table_name = table_name\n",
    "\n",
    "    # Truncate the table before loading the data\n",
    "    try:\n",
    "        con.execute(f\"TRUNCATE TABLE {table_name}\")\n",
    "    except duckdb.CatalogException as e:\n",
    "        print(f\"Table {table_name} does not exist. Skipping truncate step.\")\n",
    "\n",
    "    # Register the DataFrame as a temporary table\n",
    "    con.register('df_temp', df)\n",
    "\n",
    "    # Create or replace the table with the DataFrame data\n",
    "    con.execute(f\"CREATE OR REPLACE TABLE {table_name} AS SELECT * FROM df_temp\")\n",
    "\n",
    "    # Unregister the temporary table\n",
    "    con.unregister('df_temp')\n"
   ]
  },
  {
   "cell_type": "code",
   "execution_count": 43,
   "metadata": {},
   "outputs": [],
   "source": [
    "load_table(df_fact_orders, 'fact_orders', 'main')\n",
    "load_table(df_dim_customer, 'dim_customer', 'main')\n",
    "load_table(df_dim_shipment, 'dim_shipment', 'main')\n",
    "load_table(df_dim_product, 'dim_product', 'main')\n",
    "load_table(df_dim_date, 'dim_date', 'main')"
   ]
  },
  {
   "cell_type": "code",
   "execution_count": 44,
   "metadata": {},
   "outputs": [],
   "source": [
    "# Query to list all tables in the database\n",
    "df_tables = con.execute(\"SELECT table_name FROM information_schema.tables WHERE table_schema = 'main'\").fetchdf()"
   ]
  },
  {
   "cell_type": "code",
   "execution_count": 45,
   "metadata": {},
   "outputs": [
    {
     "data": {
      "text/html": [
       "<div>\n",
       "<style scoped>\n",
       "    .dataframe tbody tr th:only-of-type {\n",
       "        vertical-align: middle;\n",
       "    }\n",
       "\n",
       "    .dataframe tbody tr th {\n",
       "        vertical-align: top;\n",
       "    }\n",
       "\n",
       "    .dataframe thead th {\n",
       "        text-align: right;\n",
       "    }\n",
       "</style>\n",
       "<table border=\"1\" class=\"dataframe\">\n",
       "  <thead>\n",
       "    <tr style=\"text-align: right;\">\n",
       "      <th></th>\n",
       "      <th>table_name</th>\n",
       "    </tr>\n",
       "  </thead>\n",
       "  <tbody>\n",
       "    <tr>\n",
       "      <th>0</th>\n",
       "      <td>dim_customer</td>\n",
       "    </tr>\n",
       "    <tr>\n",
       "      <th>1</th>\n",
       "      <td>dim_date</td>\n",
       "    </tr>\n",
       "    <tr>\n",
       "      <th>2</th>\n",
       "      <td>dim_product</td>\n",
       "    </tr>\n",
       "    <tr>\n",
       "      <th>3</th>\n",
       "      <td>dim_shipment</td>\n",
       "    </tr>\n",
       "    <tr>\n",
       "      <th>4</th>\n",
       "      <td>fact_orders</td>\n",
       "    </tr>\n",
       "  </tbody>\n",
       "</table>\n",
       "</div>"
      ],
      "text/plain": [
       "     table_name\n",
       "0  dim_customer\n",
       "1      dim_date\n",
       "2   dim_product\n",
       "3  dim_shipment\n",
       "4   fact_orders"
      ]
     },
     "execution_count": 45,
     "metadata": {},
     "output_type": "execute_result"
    }
   ],
   "source": [
    "df_tables"
   ]
  },
  {
   "cell_type": "code",
   "execution_count": 50,
   "metadata": {},
   "outputs": [],
   "source": [
    "# Close the connection\n",
    "con.close()"
   ]
  },
  {
   "cell_type": "markdown",
   "metadata": {},
   "source": [
    "## Load csv for business users"
   ]
  },
  {
   "cell_type": "code",
   "execution_count": 49,
   "metadata": {},
   "outputs": [],
   "source": [
    "df_dim_product.to_csv(os.path.join(data_dir, 'dim_product.csv'))\n",
    "df_dim_date.to_csv(os.path.join(data_dir, 'dim_date.csv'))\n",
    "df_dim_customer.to_csv(os.path.join(data_dir, 'dim_customer.csv'))\n",
    "df_dim_shipment.to_csv(os.path.join(data_dir, 'dim_shipment.csv'))\n",
    "df_fact_orders.to_csv(os.path.join(data_dir, 'fact_orders.csv'))"
   ]
  }
 ],
 "metadata": {
  "kernelspec": {
   "display_name": ".venv",
   "language": "python",
   "name": "python3"
  },
  "language_info": {
   "codemirror_mode": {
    "name": "ipython",
    "version": 3
   },
   "file_extension": ".py",
   "mimetype": "text/x-python",
   "name": "python",
   "nbconvert_exporter": "python",
   "pygments_lexer": "ipython3",
   "version": "3.12.5"
  }
 },
 "nbformat": 4,
 "nbformat_minor": 2
}
